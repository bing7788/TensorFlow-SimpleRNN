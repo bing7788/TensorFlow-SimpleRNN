{
 "cells": [
  {
   "cell_type": "markdown",
   "metadata": {},
   "source": [
    "# RNN - 预测正弦函数\n",
    "+ 参考《TensorFlow实战Google深度学习框架》。不使用TFLearn，只使用TensorFlow\n",
    "+ 完整代码看[这里]()"
   ]
  },
  {
   "cell_type": "code",
   "execution_count": 1,
   "metadata": {},
   "outputs": [],
   "source": [
    "import tensorflow as tf\n",
    "import numpy as np\n",
    "import matplotlib.pyplot as plt\n",
    "%matplotlib inline"
   ]
  },
  {
   "cell_type": "markdown",
   "metadata": {},
   "source": [
    "## 数据准备"
   ]
  },
  {
   "cell_type": "code",
   "execution_count": 2,
   "metadata": {},
   "outputs": [],
   "source": [
    "# 训练数据个数\n",
    "training_examples = 10000\n",
    "# 测试数据个数\n",
    "testing_examples = 1000\n",
    "# sin函数的采样间隔\n",
    "sample_gap = 0.01\n",
    "# 每个训练样本的长度\n",
    "timesteps = 20"
   ]
  },
  {
   "cell_type": "code",
   "execution_count": 3,
   "metadata": {},
   "outputs": [],
   "source": [
    "def generate_data(seq):\n",
    "    '''\n",
    "    生成数据，seq是一序列的连续的sin的值\n",
    "    '''\n",
    "    X = []\n",
    "    y = []\n",
    "    \n",
    "    # 用前 timesteps 个sin值，估计第 timesteps+1 个\n",
    "    # 因此， 输入 X 是一段序列，输出 y 是一个值 \n",
    "    for i in range(len(seq) - timesteps -1):\n",
    "        X.append(seq[i : i+timesteps])\n",
    "        y.append(seq[i+timesteps])\n",
    "        \n",
    "    return np.array(X, dtype=np.float32), np.array(y, dtype=np.float32)\n",
    "    "
   ]
  },
  {
   "cell_type": "code",
   "execution_count": 4,
   "metadata": {},
   "outputs": [],
   "source": [
    "test_start = training_examples*sample_gap\n",
    "test_end = test_start + testing_examples*sample_gap\n",
    "\n",
    "train_x, train_y = generate_data( np.sin( np.linspace(0, test_start, training_examples) ) )\n",
    "test_x, test_y = generate_data( np.sin( np.linspace(test_start, test_end, testing_examples) ) )"
   ]
  },
  {
   "cell_type": "markdown",
   "metadata": {},
   "source": [
    "## 建立RNN模型"
   ]
  },
  {
   "cell_type": "markdown",
   "metadata": {},
   "source": [
    "### 设置模型参数"
   ]
  },
  {
   "cell_type": "code",
   "execution_count": 5,
   "metadata": {},
   "outputs": [],
   "source": [
    "lstm_size = 30\n",
    "lstm_layers = 2\n",
    "batch_size = 64"
   ]
  },
  {
   "cell_type": "markdown",
   "metadata": {},
   "source": [
    "### 定义输入输出"
   ]
  },
  {
   "cell_type": "code",
   "execution_count": 6,
   "metadata": {},
   "outputs": [],
   "source": [
    "x = tf.placeholder(tf.float32, [None, timesteps, 1], name='input_x')\n",
    "y_ = tf.placeholder(tf.float32, [None, 1], name='input_y')\n",
    "keep_prob = tf.placeholder(tf.float32, name='keep_prob')"
   ]
  },
  {
   "cell_type": "markdown",
   "metadata": {},
   "source": [
    "### 建立LSTM层"
   ]
  },
  {
   "cell_type": "code",
   "execution_count": 8,
   "metadata": {},
   "outputs": [],
   "source": [
    "# 有lstm_size个单元\n",
    "lstm = tf.contrib.rnn.BasicLSTMCell(lstm_size)\n",
    "# 添加dropout\n",
    "drop = tf.contrib.rnn.DropoutWrapper(lstm, output_keep_prob=keep_prob)\n",
    "# 一层不够，就多来几层\n",
    "def lstm_cell():\n",
    "    return tf.contrib.rnn.BasicLSTMCell(lstm_size)\n",
    "cell = tf.contrib.rnn.MultiRNNCell([ lstm_cell() for _ in range(lstm_layers)])\n",
    "\n",
    "# 进行forward，得到隐层的输出\n",
    "outputs, final_state = tf.nn.dynamic_rnn(cell, x, dtype=tf.float32)\n",
    "# 在本问题中只关注最后一个时刻的输出结果，该结果为下一个时刻的预测值\n",
    "outputs = outputs[:,-1]\n",
    "\n",
    "# 定义输出层, 输出值[-1,1]，因此激活函数用tanh\n",
    "predictions = tf.contrib.layers.fully_connected(outputs, 1, activation_fn=tf.tanh)\n",
    "# 定义损失函数\n",
    "cost = tf.losses.mean_squared_error(y_, predictions)\n",
    "# 定义优化步骤\n",
    "optimizer = tf.train.AdamOptimizer().minimize(cost)"
   ]
  },
  {
   "cell_type": "markdown",
   "metadata": {},
   "source": [
    "### 训练"
   ]
  },
  {
   "cell_type": "code",
   "execution_count": 9,
   "metadata": {},
   "outputs": [],
   "source": [
    "# 获取一个batch_size大小的数据\n",
    "def get_batches(X, y, batch_size=64):\n",
    "    for i in range(0, len(X), batch_size):\n",
    "        begin_i = i\n",
    "        end_i = i + batch_size if (i+batch_size) < len(X) else len(X)\n",
    "        \n",
    "        yield X[begin_i:end_i], y[begin_i:end_i]"
   ]
  },
  {
   "cell_type": "code",
   "execution_count": 18,
   "metadata": {},
   "outputs": [
    {
     "name": "stdout",
     "output_type": "stream",
     "text": [
      "Epochs:0/20 Iteration:100 Train loss: 0.01009926\n",
      "Epochs:1/20 Iteration:200 Train loss: 0.02012673\n",
      "Epochs:1/20 Iteration:300 Train loss: 0.00237983\n",
      "Epochs:2/20 Iteration:400 Train loss: 0.00029798\n",
      "Epochs:3/20 Iteration:500 Train loss: 0.00283409\n",
      "Epochs:3/20 Iteration:600 Train loss: 0.00115144\n",
      "Epochs:4/20 Iteration:700 Train loss: 0.00130756\n",
      "Epochs:5/20 Iteration:800 Train loss: 0.00029282\n",
      "Epochs:5/20 Iteration:900 Train loss: 0.00045034\n",
      "Epochs:6/20 Iteration:1000 Train loss: 0.00007531\n",
      "Epochs:7/20 Iteration:1100 Train loss: 0.00189699\n",
      "Epochs:7/20 Iteration:1200 Train loss: 0.00022669\n",
      "Epochs:8/20 Iteration:1300 Train loss: 0.00065262\n",
      "Epochs:8/20 Iteration:1400 Train loss: 0.00001342\n",
      "Epochs:9/20 Iteration:1500 Train loss: 0.00037799\n",
      "Epochs:10/20 Iteration:1600 Train loss: 0.00009412\n",
      "Epochs:10/20 Iteration:1700 Train loss: 0.00110568\n",
      "Epochs:11/20 Iteration:1800 Train loss: 0.00024895\n",
      "Epochs:12/20 Iteration:1900 Train loss: 0.00287319\n",
      "Epochs:12/20 Iteration:2000 Train loss: 0.00012025\n",
      "Epochs:13/20 Iteration:2100 Train loss: 0.00353661\n",
      "Epochs:14/20 Iteration:2200 Train loss: 0.00045697\n",
      "Epochs:14/20 Iteration:2300 Train loss: 0.00103393\n",
      "Epochs:15/20 Iteration:2400 Train loss: 0.00045038\n",
      "Epochs:16/20 Iteration:2500 Train loss: 0.00022164\n",
      "Epochs:16/20 Iteration:2600 Train loss: 0.00026206\n",
      "Epochs:17/20 Iteration:2700 Train loss: 0.00279484\n",
      "Epochs:17/20 Iteration:2800 Train loss: 0.00024887\n",
      "Epochs:18/20 Iteration:2900 Train loss: 0.00263336\n",
      "Epochs:19/20 Iteration:3000 Train loss: 0.00071482\n",
      "Epochs:19/20 Iteration:3100 Train loss: 0.00026286\n"
     ]
    }
   ],
   "source": [
    "epochs = 20\n",
    "session = tf.Session()\n",
    "with session.as_default() as sess:\n",
    "    # 初始化变量\n",
    "    tf.global_variables_initializer().run()\n",
    "    \n",
    "    iteration = 1\n",
    "    \n",
    "    for e in range(epochs):\n",
    "        for xs, ys in get_batches(train_x, train_y, batch_size):\n",
    "            # xs[:,:,None] 增加一个维度，例如[64, 20] ==> [64, 20, 1]，为了对应输入\n",
    "            # 同理 ys[:,None]\n",
    "            feed_dict = { x:xs[:,:,None], y_:ys[:,None], keep_prob:.5 }\n",
    "        \n",
    "            loss, _ = sess.run([cost, optimizer], feed_dict=feed_dict)\n",
    "        \n",
    "            if iteration % 100 == 0:\n",
    "                print('Epochs:{}/{}'.format(e, epochs),\n",
    "                      'Iteration:{}'.format(iteration),\n",
    "                      'Train loss: {:.8f}'.format(loss))\n",
    "            iteration += 1"
   ]
  },
  {
   "cell_type": "markdown",
   "metadata": {},
   "source": [
    "### 测试"
   ]
  },
  {
   "cell_type": "code",
   "execution_count": 19,
   "metadata": {},
   "outputs": [
    {
     "data": {
      "image/png": "[encoded data removed]",
      "text/plain": [
       "<matplotlib.figure.Figure at 0x2313f123208>"
      ]
     },
     "metadata": {},
     "output_type": "display_data"
    }
   ],
   "source": [
    "with session.as_default() as sess:\n",
    "    ## 测试结果\n",
    "    feed_dict = {x:test_x[:,:,None], keep_prob:1.0}\n",
    "    results = sess.run(predictions, feed_dict=feed_dict)\n",
    "    plt.plot(results,'r', label='predicted')\n",
    "    plt.plot(test_y, 'g--', label='real sin')\n",
    "    plt.legend()\n",
    "    plt.show()"
   ]
  }
 ],
 "metadata": {
  "kernelspec": {
   "display_name": "Python 3",
   "language": "python",
   "name": "python3"
  },
  "language_info": {
   "codemirror_mode": {
    "name": "ipython",
    "version": 3
   },
   "file_extension": ".py",
   "mimetype": "text/x-python",
   "name": "python",
   "nbconvert_exporter": "python",
   "pygments_lexer": "ipython3",
   "version": "3.6.3"
  }
 },
 "nbformat": 4,
 "nbformat_minor": 2
}
